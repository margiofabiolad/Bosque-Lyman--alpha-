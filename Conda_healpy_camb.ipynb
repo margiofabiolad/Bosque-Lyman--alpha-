{
  "nbformat": 4,
  "nbformat_minor": 0,
  "metadata": {
    "colab": {
      "name": "Conda_healpy_camb.ipynb",
      "provenance": [],
      "collapsed_sections": [],
      "authorship_tag": "ABX9TyO60nT3QIXRAQsk9mdlpv5W",
      "include_colab_link": true
    },
    "kernelspec": {
      "name": "python3",
      "display_name": "Python 3"
    },
    "language_info": {
      "name": "python"
    }
  },
  "cells": [
    {
      "cell_type": "markdown",
      "metadata": {
        "id": "view-in-github",
        "colab_type": "text"
      },
      "source": [
        "<a href=\"https://colab.research.google.com/github/margiofabiolad/Bosque-Lyman--alpha-/blob/master/Conda_healpy_camb.ipynb\" target=\"_parent\"><img src=\"https://colab.research.google.com/assets/colab-badge.svg\" alt=\"Open In Colab\"/></a>"
      ]
    },
    {
      "cell_type": "markdown",
      "source": [
        "## Instalación de Conda en Google Colab "
      ],
      "metadata": {
        "id": "Ovvbv0Xjbw1o"
      }
    },
    {
      "cell_type": "code",
      "source": [
        "!pip install -q condacolab \n",
        "\n",
        "import condacolab\n",
        "\n",
        "condacolab.install()"
      ],
      "metadata": {
        "colab": {
          "base_uri": "https://localhost:8080/"
        },
        "id": "24SROfJ4b2uv",
        "outputId": "d4115017-2993-499e-c2b7-fad7b2b558ff"
      },
      "execution_count": 1,
      "outputs": [
        {
          "output_type": "stream",
          "name": "stdout",
          "text": [
            "⏬ Downloading https://github.com/jaimergp/miniforge/releases/latest/download/Mambaforge-colab-Linux-x86_64.sh...\n",
            "📦 Installing...\n",
            "📌 Adjusting configuration...\n",
            "🩹 Patching environment...\n",
            "⏲ Done in 0:00:38\n",
            "🔁 Restarting kernel...\n"
          ]
        }
      ]
    },
    {
      "cell_type": "code",
      "source": [
        "!conda --version\n",
        "\n",
        "!which conda\n",
        "\n"
      ],
      "metadata": {
        "colab": {
          "base_uri": "https://localhost:8080/"
        },
        "id": "BJXCqEZWcQvR",
        "outputId": "2cd252c0-498d-4f0c-e9da-e91b2d42b6e4"
      },
      "execution_count": 2,
      "outputs": [
        {
          "output_type": "stream",
          "name": "stdout",
          "text": [
            "conda 4.9.2\n",
            "/usr/local/bin/conda\n"
          ]
        }
      ]
    },
    {
      "cell_type": "markdown",
      "source": [
        ""
      ],
      "metadata": {
        "id": "lojg6lbFbjH5"
      }
    },
    {
      "cell_type": "code",
      "source": [
        "!conda update -y conda -n base\n",
        "\n",
        "!conda --version\n",
        "!python --version"
      ],
      "metadata": {
        "colab": {
          "base_uri": "https://localhost:8080/"
        },
        "id": "UEDlOi6scYzc",
        "outputId": "2d6b7527-892a-4f07-8e75-14a242a4d811"
      },
      "execution_count": 3,
      "outputs": [
        {
          "output_type": "stream",
          "name": "stdout",
          "text": [
            "Collecting package metadata (current_repodata.json): - \b\b\\ \b\b| \b\b/ \b\b- \b\b\\ \b\b| \b\b/ \b\b- \b\b\\ \b\b| \b\b/ \b\b- \b\b\\ \b\b| \b\b/ \b\b- \b\b\\ \b\b| \b\b/ \b\b- \b\b\\ \b\b| \b\b/ \b\b- \b\b\\ \b\b| \b\b/ \b\b- \b\b\\ \b\b| \b\b/ \b\b- \b\b\\ \b\b| \b\b/ \b\b- \b\b\\ \b\b| \b\b/ \b\b- \b\b\\ \b\b| \b\b/ \b\b- \b\b\\ \b\b| \b\b/ \b\b- \b\b\\ \b\b| \b\b/ \b\b- \b\b\\ \b\b| \b\b/ \b\b- \b\b\\ \b\b| \b\b/ \b\b- \b\b\\ \b\b| \b\b/ \b\b- \b\b\\ \b\b| \b\b/ \b\b- \b\b\\ \b\b| \b\b/ \b\b- \b\b\\ \b\b| \b\b/ \b\bdone\n",
            "Solving environment: \\ \b\b| \b\b/ \b\b- \b\b\\ \b\b| \b\b/ \b\b- \b\b\\ \b\b| \b\b/ \b\b- \b\b\\ \b\b| \b\b/ \b\b- \b\b\\ \b\b| \b\b/ \b\b- \b\b\\ \b\b| \b\bdone\n",
            "\n",
            "## Package Plan ##\n",
            "\n",
            "  environment location: /usr/local\n",
            "\n",
            "  added / updated specs:\n",
            "    - conda\n",
            "\n",
            "\n",
            "The following packages will be downloaded:\n",
            "\n",
            "    package                    |            build\n",
            "    ---------------------------|-----------------\n",
            "    brotlipy-0.7.0             |py37h5e8e339_1003         342 KB  conda-forge\n",
            "    c-ares-1.18.1              |       h7f98852_0         113 KB  conda-forge\n",
            "    ca-certificates-2021.10.8  |       ha878542_0         139 KB  conda-forge\n",
            "    certifi-2021.10.8          |   py37h89c1867_1         145 KB  conda-forge\n",
            "    cffi-1.15.0                |   py37h036bc23_0         225 KB  conda-forge\n",
            "    charset-normalizer-2.0.9   |     pyhd8ed1ab_0          34 KB  conda-forge\n",
            "    colorama-0.4.4             |     pyh9f0ad1d_0          18 KB  conda-forge\n",
            "    conda-4.11.0               |   py37h89c1867_0        16.9 MB  conda-forge\n",
            "    conda-package-handling-1.7.3|   py37h5e8e339_1        1008 KB  conda-forge\n",
            "    cryptography-36.0.0        |   py37hf1a17b8_0         1.7 MB  conda-forge\n",
            "    icu-69.1                   |       h9c3ff4c_0        13.2 MB  conda-forge\n",
            "    idna-3.1                   |     pyhd3deb0d_0          52 KB  conda-forge\n",
            "    krb5-1.19.2                |       hcc1bbae_3         1.4 MB  conda-forge\n",
            "    ld_impl_linux-64-2.36.1    |       hea4e1c9_2         667 KB  conda-forge\n",
            "    libarchive-3.5.2           |       hccf745f_1         1.6 MB  conda-forge\n",
            "    libcurl-7.80.0             |       h2574ce0_0         337 KB  conda-forge\n",
            "    libffi-3.4.2               |       h7f98852_5          57 KB  conda-forge\n",
            "    libgcc-ng-11.2.0           |      h1d223b6_11         887 KB  conda-forge\n",
            "    libgomp-11.2.0             |      h1d223b6_11         427 KB  conda-forge\n",
            "    libnghttp2-1.43.0          |       h812cca2_1         790 KB  conda-forge\n",
            "    libnsl-2.0.0               |       h7f98852_0          31 KB  conda-forge\n",
            "    libsolv-0.7.19             |       h780b84a_5         445 KB  conda-forge\n",
            "    libssh2-1.10.0             |       ha56f1ee_2         233 KB  conda-forge\n",
            "    libstdcxx-ng-11.2.0        |      he4da1e4_11         4.2 MB  conda-forge\n",
            "    libxml2-2.9.12             |       h885dcf4_1         760 KB  conda-forge\n",
            "    libzlib-1.2.11             |    h36c2ea0_1013          59 KB  conda-forge\n",
            "    lz4-c-1.9.3                |       h9c3ff4c_1         179 KB  conda-forge\n",
            "    openssl-1.1.1l             |       h7f98852_0         2.1 MB  conda-forge\n",
            "    pycosat-0.6.3              |py37h5e8e339_1009         107 KB  conda-forge\n",
            "    pycparser-2.21             |     pyhd8ed1ab_0         100 KB  conda-forge\n",
            "    pyopenssl-21.0.0           |     pyhd8ed1ab_0          48 KB  conda-forge\n",
            "    pysocks-1.7.1              |   py37h89c1867_4          28 KB  conda-forge\n",
            "    python-3.7.12              |hb7a2778_100_cpython        57.3 MB  conda-forge\n",
            "    python_abi-3.7             |          2_cp37m           4 KB  conda-forge\n",
            "    readline-8.1               |       h46c0cb4_0         295 KB  conda-forge\n",
            "    reproc-14.2.3              |       h7f98852_0          28 KB  conda-forge\n",
            "    reproc-cpp-14.2.3          |       h9c3ff4c_0          20 KB  conda-forge\n",
            "    requests-2.26.0            |     pyhd8ed1ab_1          52 KB  conda-forge\n",
            "    ruamel_yaml-0.15.80        |py37h5e8e339_1006         270 KB  conda-forge\n",
            "    setuptools-59.4.0          |   py37h89c1867_0        1016 KB  conda-forge\n",
            "    six-1.16.0                 |     pyh6c4a22f_0          14 KB  conda-forge\n",
            "    sqlite-3.37.0              |       h9cd32fc_0         1.5 MB  conda-forge\n",
            "    tk-8.6.11                  |       h27826a3_1         3.3 MB  conda-forge\n",
            "    tqdm-4.62.3                |     pyhd8ed1ab_0          80 KB  conda-forge\n",
            "    urllib3-1.26.7             |     pyhd8ed1ab_0         100 KB  conda-forge\n",
            "    wheel-0.37.0               |     pyhd8ed1ab_1          31 KB  conda-forge\n",
            "    zlib-1.2.11                |    h36c2ea0_1013          86 KB  conda-forge\n",
            "    zstd-1.5.0                 |       ha95c52a_0         490 KB  conda-forge\n",
            "    ------------------------------------------------------------\n",
            "                                           Total:       112.7 MB\n",
            "\n",
            "The following NEW packages will be INSTALLED:\n",
            "\n",
            "  charset-normalizer conda-forge/noarch::charset-normalizer-2.0.9-pyhd8ed1ab_0\n",
            "  colorama           conda-forge/noarch::colorama-0.4.4-pyh9f0ad1d_0\n",
            "  libnsl             conda-forge/linux-64::libnsl-2.0.0-h7f98852_0\n",
            "  libzlib            conda-forge/linux-64::libzlib-1.2.11-h36c2ea0_1013\n",
            "\n",
            "The following packages will be REMOVED:\n",
            "\n",
            "  chardet-4.0.0-py37h89c1867_1\n",
            "\n",
            "The following packages will be UPDATED:\n",
            "\n",
            "  brotlipy                          0.7.0-py37h5e8e339_1001 --> 0.7.0-py37h5e8e339_1003\n",
            "  c-ares                                  1.17.1-h7f98852_1 --> 1.18.1-h7f98852_0\n",
            "  ca-certificates                      2020.12.5-ha878542_0 --> 2021.10.8-ha878542_0\n",
            "  certifi                          2020.12.5-py37h89c1867_1 --> 2021.10.8-py37h89c1867_1\n",
            "  cffi                                1.14.5-py37hc58025e_0 --> 1.15.0-py37h036bc23_0\n",
            "  conda                                4.9.2-py37h89c1867_0 --> 4.11.0-py37h89c1867_0\n",
            "  conda-package-han~                   1.7.2-py37hb5d75c8_0 --> 1.7.3-py37h5e8e339_1\n",
            "  cryptography                         3.4.5-py37h5d9358c_1 --> 36.0.0-py37hf1a17b8_0\n",
            "  icu                                       68.1-h58526e2_0 --> 69.1-h9c3ff4c_0\n",
            "  idna                                    2.10-pyh9f0ad1d_0 --> 3.1-pyhd3deb0d_0\n",
            "  krb5                                    1.17.2-h926e7f8_0 --> 1.19.2-hcc1bbae_3\n",
            "  ld_impl_linux-64                        2.35.1-hea4e1c9_2 --> 2.36.1-hea4e1c9_2\n",
            "  libarchive                               3.5.1-h3f442fb_1 --> 3.5.2-hccf745f_1\n",
            "  libcurl                                 7.75.0-hc4aaa36_0 --> 7.80.0-h2574ce0_0\n",
            "  libffi                                     3.3-h58526e2_2 --> 3.4.2-h7f98852_5\n",
            "  libgcc-ng                               9.3.0-h2828fa1_18 --> 11.2.0-h1d223b6_11\n",
            "  libgomp                                 9.3.0-h2828fa1_18 --> 11.2.0-h1d223b6_11\n",
            "  libnghttp2                              1.43.0-h812cca2_0 --> 1.43.0-h812cca2_1\n",
            "  libsolv                                 0.7.17-h780b84a_0 --> 0.7.19-h780b84a_5\n",
            "  libssh2                                  1.9.0-ha56f1ee_6 --> 1.10.0-ha56f1ee_2\n",
            "  libstdcxx-ng                            9.3.0-h6de172a_18 --> 11.2.0-he4da1e4_11\n",
            "  libxml2                                 2.9.10-h72842e0_3 --> 2.9.12-h885dcf4_1\n",
            "  lz4-c                                    1.9.3-h9c3ff4c_0 --> 1.9.3-h9c3ff4c_1\n",
            "  openssl                                 1.1.1j-h7f98852_0 --> 1.1.1l-h7f98852_0\n",
            "  pycosat                           0.6.3-py37h5e8e339_1006 --> 0.6.3-py37h5e8e339_1009\n",
            "  pycparser                               2.20-pyh9f0ad1d_2 --> 2.21-pyhd8ed1ab_0\n",
            "  pyopenssl                             20.0.1-pyhd8ed1ab_0 --> 21.0.0-pyhd8ed1ab_0\n",
            "  pysocks                              1.7.1-py37h89c1867_3 --> 1.7.1-py37h89c1867_4\n",
            "  python                        3.7.10-hffdb5ce_100_cpython --> 3.7.12-hb7a2778_100_cpython\n",
            "  python_abi                                    3.7-1_cp37m --> 3.7-2_cp37m\n",
            "  readline                                   8.0-he28a2e2_2 --> 8.1-h46c0cb4_0\n",
            "  reproc                                  14.2.1-h36c2ea0_0 --> 14.2.3-h7f98852_0\n",
            "  reproc-cpp                              14.2.1-h58526e2_0 --> 14.2.3-h9c3ff4c_0\n",
            "  requests                              2.25.1-pyhd3deb0d_0 --> 2.26.0-pyhd8ed1ab_1\n",
            "  ruamel_yaml                     0.15.80-py37h5e8e339_1004 --> 0.15.80-py37h5e8e339_1006\n",
            "  setuptools                          49.6.0-py37h89c1867_3 --> 59.4.0-py37h89c1867_0\n",
            "  six                                   1.15.0-pyh9f0ad1d_0 --> 1.16.0-pyh6c4a22f_0\n",
            "  sqlite                                  3.34.0-h74cdb3f_0 --> 3.37.0-h9cd32fc_0\n",
            "  tk                                      8.6.10-h21135ba_1 --> 8.6.11-h27826a3_1\n",
            "  tqdm                                  4.59.0-pyhd8ed1ab_0 --> 4.62.3-pyhd8ed1ab_0\n",
            "  urllib3                               1.26.3-pyhd8ed1ab_0 --> 1.26.7-pyhd8ed1ab_0\n",
            "  wheel                                 0.36.2-pyhd3deb0d_0 --> 0.37.0-pyhd8ed1ab_1\n",
            "  zlib                                 1.2.11-h516909a_1010 --> 1.2.11-h36c2ea0_1013\n",
            "  zstd                                     1.4.9-ha95c52a_0 --> 1.5.0-ha95c52a_0\n",
            "\n",
            "\n",
            "\n",
            "Downloading and Extracting Packages\n",
            "pycosat-0.6.3        | 107 KB    | : 100% 1.0/1 [00:00<00:00, 10.51it/s]\n",
            "libxml2-2.9.12       | 760 KB    | : 100% 1.0/1 [00:00<00:00,  5.19it/s]\n",
            "colorama-0.4.4       | 18 KB     | : 100% 1.0/1 [00:00<00:00, 25.97it/s]\n",
            "libnsl-2.0.0         | 31 KB     | : 100% 1.0/1 [00:00<00:00, 26.76it/s]\n",
            "ld_impl_linux-64-2.3 | 667 KB    | : 100% 1.0/1 [00:00<00:00,  5.45it/s]\n",
            "libstdcxx-ng-11.2.0  | 4.2 MB    | : 100% 1.0/1 [00:00<00:00,  1.38it/s]\n",
            "ruamel_yaml-0.15.80  | 270 KB    | : 100% 1.0/1 [00:00<00:00, 10.62it/s]\n",
            "wheel-0.37.0         | 31 KB     | : 100% 1.0/1 [00:00<00:00, 14.69it/s]\n",
            "six-1.16.0           | 14 KB     | : 100% 1.0/1 [00:00<00:00, 26.62it/s]\n",
            "certifi-2021.10.8    | 145 KB    | : 100% 1.0/1 [00:00<00:00, 19.57it/s]\n",
            "idna-3.1             | 52 KB     | : 100% 1.0/1 [00:00<00:00, 23.77it/s]\n",
            "python-3.7.12        | 57.3 MB   | : 100% 1.0/1 [00:08<00:00,  8.75s/it]               \n",
            "krb5-1.19.2          | 1.4 MB    | : 100% 1.0/1 [00:00<00:00,  2.95it/s]\n",
            "libsolv-0.7.19       | 445 KB    | : 100% 1.0/1 [00:00<00:00,  8.62it/s]\n",
            "requests-2.26.0      | 52 KB     | : 100% 1.0/1 [00:00<00:00, 21.93it/s]\n",
            "ca-certificates-2021 | 139 KB    | : 100% 1.0/1 [00:00<00:00, 19.02it/s]\n",
            "charset-normalizer-2 | 34 KB     | : 100% 1.0/1 [00:00<00:00, 23.24it/s]\n",
            "conda-4.11.0         | 16.9 MB   | : 100% 1.0/1 [00:04<00:00,  4.62s/it]               \n",
            "reproc-cpp-14.2.3    | 20 KB     | : 100% 1.0/1 [00:00<00:00, 29.96it/s]\n",
            "python_abi-3.7       | 4 KB      | : 100% 1.0/1 [00:00<00:00, 23.72it/s]\n",
            "openssl-1.1.1l       | 2.1 MB    | : 100% 1.0/1 [00:00<00:00,  1.87it/s]\n",
            "pyopenssl-21.0.0     | 48 KB     | : 100% 1.0/1 [00:00<00:00, 22.61it/s]\n",
            "icu-69.1             | 13.2 MB   | : 100% 1.0/1 [00:02<00:00,  2.46s/it]               \n",
            "zlib-1.2.11          | 86 KB     | : 100% 1.0/1 [00:00<00:00, 20.35it/s]\n",
            "lz4-c-1.9.3          | 179 KB    | : 100% 1.0/1 [00:00<00:00, 15.54it/s]\n",
            "libgcc-ng-11.2.0     | 887 KB    | : 100% 1.0/1 [00:00<00:00,  5.80it/s]\n",
            "libssh2-1.10.0       | 233 KB    | : 100% 1.0/1 [00:00<00:00, 11.29it/s]\n",
            "libnghttp2-1.43.0    | 790 KB    | : 100% 1.0/1 [00:00<00:00,  5.89it/s]\n",
            "libcurl-7.80.0       | 337 KB    | : 100% 1.0/1 [00:00<00:00, 10.64it/s]\n",
            "urllib3-1.26.7       | 100 KB    | : 100% 1.0/1 [00:00<00:00, 14.94it/s]\n",
            "conda-package-handli | 1008 KB   | : 100% 1.0/1 [00:00<00:00,  5.41it/s]\n",
            "zstd-1.5.0           | 490 KB    | : 100% 1.0/1 [00:00<00:00,  8.95it/s]\n",
            "tk-8.6.11            | 3.3 MB    | : 100% 1.0/1 [00:00<00:00,  1.52it/s]\n",
            "pysocks-1.7.1        | 28 KB     | : 100% 1.0/1 [00:00<00:00, 23.69it/s]\n",
            "pycparser-2.21       | 100 KB    | : 100% 1.0/1 [00:00<00:00, 14.36it/s]\n",
            "libffi-3.4.2         | 57 KB     | : 100% 1.0/1 [00:00<00:00, 24.58it/s]\n",
            "libgomp-11.2.0       | 427 KB    | : 100% 1.0/1 [00:00<00:00,  9.32it/s]\n",
            "sqlite-3.37.0        | 1.5 MB    | : 100% 1.0/1 [00:00<00:00,  3.66it/s]\n",
            "cffi-1.15.0          | 225 KB    | : 100% 1.0/1 [00:00<00:00, 13.47it/s]\n",
            "brotlipy-0.7.0       | 342 KB    | : 100% 1.0/1 [00:00<00:00, 11.99it/s]\n",
            "libzlib-1.2.11       | 59 KB     | : 100% 1.0/1 [00:00<00:00, 25.19it/s]\n",
            "readline-8.1         | 295 KB    | : 100% 1.0/1 [00:00<00:00, 11.20it/s]\n",
            "setuptools-59.4.0    | 1016 KB   | : 100% 1.0/1 [00:00<00:00,  3.26it/s]\n",
            "reproc-14.2.3        | 28 KB     | : 100% 1.0/1 [00:00<00:00, 25.58it/s]\n",
            "tqdm-4.62.3          | 80 KB     | : 100% 1.0/1 [00:00<00:00, 18.91it/s]\n",
            "libarchive-3.5.2     | 1.6 MB    | : 100% 1.0/1 [00:00<00:00,  3.01it/s]\n",
            "cryptography-36.0.0  | 1.7 MB    | : 100% 1.0/1 [00:00<00:00,  2.22it/s]\n",
            "c-ares-1.18.1        | 113 KB    | : 100% 1.0/1 [00:00<00:00, 18.01it/s]\n",
            "Preparing transaction: - \b\b\\ \b\b| \b\bdone\n",
            "Verifying transaction: - \b\b\\ \b\b| \b\b/ \b\b- \b\b\\ \b\b| \b\b/ \b\b- \b\b\\ \b\b| \b\b/ \b\b- \b\b\\ \b\b| \b\b/ \b\bdone\n",
            "Executing transaction: \\ \b\b| \b\b/ \b\b- \b\b\\ \b\b| \b\b/ \b\b- \b\b\\ \b\b| \b\b/ \b\b- \b\b\\ \b\b| \b\bdone\n",
            "conda 4.11.0\n",
            "Python 3.7.12\n"
          ]
        }
      ]
    },
    {
      "cell_type": "markdown",
      "source": [
        "### Para acceder a los archivos contenidos en Drive:"
      ],
      "metadata": {
        "id": "JhNvX9Gzc-1H"
      }
    },
    {
      "cell_type": "code",
      "source": [
        "from google.colab import drive\n",
        "\n",
        "drive.mount(\"/gdrive\")\n",
        "\n",
        "import os\n",
        "\n",
        "# Dirección de la carpeta de origen\n",
        "path_origin = os.getcwd()\n",
        "\n",
        "# Dirección de la carpeta de trabajo en donde estan los datos\n",
        "path_word = \"/gdrive/My Drive/Colab Notebooks\"\n",
        "\n",
        "# Se cambia la dirección en donde se ejecuta el código\n",
        "os.chdir(path_word)"
      ],
      "metadata": {
        "id": "NkUaAcD9cu8_"
      },
      "execution_count": null,
      "outputs": []
    },
    {
      "cell_type": "markdown",
      "source": [
        "## Instalando los módulos Healpy y Camb:"
      ],
      "metadata": {
        "id": "LpZ7BCtxd9d0"
      }
    },
    {
      "cell_type": "code",
      "source": [
        "!conda install healpy\n",
        "!conda install camb"
      ],
      "metadata": {
        "id": "vPq9IOindhf4"
      },
      "execution_count": null,
      "outputs": []
    },
    {
      "cell_type": "code",
      "source": [
        "import healpy \n",
        "import numpy as np\n",
        "\n",
        "#print('Using HEALPY %s installed at %s'%(healpy.__version__,os.path.dirname(healpy.__file__)))"
      ],
      "metadata": {
        "id": "r_26oKjmeP82"
      },
      "execution_count": null,
      "outputs": []
    },
    {
      "cell_type": "markdown",
      "source": [
        "### Leyendo los mapas de Planck 2018"
      ],
      "metadata": {
        "id": "25hQOJJPgWRr"
      }
    },
    {
      "cell_type": "code",
      "source": [
        "planck_map = healpy.read_map(\"data-action?MAP.MAP_OID=13470\")"
      ],
      "metadata": {
        "id": "NMyyV8ETgL9T"
      },
      "execution_count": null,
      "outputs": []
    },
    {
      "cell_type": "code",
      "source": [
        "NSIDE = 2048\n",
        "print(\n",
        "    \"Approximate resolution at NSIDE {} is {:.2} deg\".format(\n",
        "        NSIDE, healpy.nside2resol(NSIDE, arcmin=True) / 60\n",
        "    )\n",
        ")"
      ],
      "metadata": {
        "id": "MLD4DT20iiOt"
      },
      "execution_count": null,
      "outputs": []
    },
    {
      "cell_type": "code",
      "source": [
        "NPIX = healpy.nside2npix(NSIDE)\n",
        "print(NPIX)"
      ],
      "metadata": {
        "id": "5Nj2Pi8Ec6KL"
      },
      "execution_count": null,
      "outputs": []
    },
    {
      "cell_type": "code",
      "source": [
        "m = np.arange(NPIX)\n",
        "healpy.mollview(m, nest=True, title=\"Mollview image RING\")\n",
        "healpy.graticule()"
      ],
      "metadata": {
        "id": "7kSTM3wuevWT"
      },
      "execution_count": null,
      "outputs": []
    },
    {
      "cell_type": "code",
      "source": [
        "import camb\n",
        "\n",
        "print('Using CAMB %s installed at %s'%(camb.__version__,os.path.dirname(camb.__file__)))"
      ],
      "metadata": {
        "id": "QSdpyaT1fN5u"
      },
      "execution_count": null,
      "outputs": []
    },
    {
      "cell_type": "code",
      "source": [
        ""
      ],
      "metadata": {
        "id": "AIc83_H3fPuQ"
      },
      "execution_count": null,
      "outputs": []
    }
  ]
}